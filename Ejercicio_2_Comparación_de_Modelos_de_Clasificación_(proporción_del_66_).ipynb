{
  "nbformat": 4,
  "nbformat_minor": 0,
  "metadata": {
    "kernelspec": {
      "display_name": "R",
      "language": "R",
      "name": "ir"
    },
    "language_info": {
      "codemirror_mode": "r",
      "file_extension": ".r",
      "mimetype": "text/x-r-source",
      "name": "R",
      "pygments_lexer": "r",
      "version": "3.3.1"
    },
    "colab": {
      "name": "Ejercicio 2 - Comparación de Modelos de Clasificación (proporción del 66%)",
      "provenance": [],
      "collapsed_sections": []
    }
  },
  "cells": [
    {
      "cell_type": "markdown",
      "metadata": {
        "id": "AEA4r6FfIRE5"
      },
      "source": [
        "# Ejercicio 2 - Comparación de Modelos de Clasificación\n",
        "\n",
        "Este ejercicio se centra en el entrenamiento y evaluación de modelos de clasificación supervisada, sobre un conjunto de datos de campañas de marketing de productos bancarios. \n",
        "\n",
        "## Contexto: Análisis de éxito en campaña de marketing\n",
        "\n",
        "Fuente: https://archive.ics.uci.edu/ml/datasets/Bank+Marketing\n",
        "\n",
        "El foco está en la implementación de varios clasificadores para predicir el valor de un atributo, desde un *dataset* de información de un resultados de personas contactadas por una campaña de marketing y que compraron la oferta (atributo \"OK\"), con cerca de 41.200 registros de personas contactadas.\n",
        "\n",
        "Este conjunto de datos (abierto para este tipo de usos instruccionales), consiste en 20 atributos y 1 clase de etiquetas (totalizando 21 columnas) y corresponde a los datos de una campaña telefónica a diversos clientes en Portugal, ofreciéndoles la compra de un producto bancario. En varios casos, un cliente fue contactado varias veces antes de aceptar el el depósito a plazo ofrecido por la campaña (OK = yes). \n",
        "\n",
        "Algunos de los atributos relevantes son (combinando atributos categóricos, con numéricos):\n",
        "* **Datos personales**: Edad, Ocupación, Estado Civil, Nivel de Educación.\n",
        "* **Datos financieros**: Su casa tiene crédito hipotecario, default: si el crédito ha caído en quiebra; tiene un crédito de consumo.\n",
        "* **Datos de contactos de la campaña actual**: Tipo de Comunicación (celular o teléfono fijo); Mes del último contacto; Día de la semana del contacto; duración de la llamada (segundos); Contacto: N° de contactos durante la campaña; DíasAtrás: días transcurridos desde último contacto; Resultado: resultado de la última llamada (falló, no-existe, éxito)\n",
        "* **Datos socioeconómicos**: EmpTasaVar: tasa de variación de empleabilidad; IPC: índice de precios consumidor mensual; ICC: índice de confianza consumidor mensual; Euribor3m: tasa euribor de 3 meses indicador diario; NumEmpleados: cantidad de gente empleada, en indicador trimestral. \n",
        "\n",
        "Esta adaptación en particular, por el equipo de R:Solver (RSolver.com), enfrenta diferentes objetivos de aprendizaje dentro de los cursos de Big Data y Machine Learning.\n",
        "\n"
      ]
    },
    {
      "cell_type": "markdown",
      "metadata": {
        "id": "BhFF63rsMfbI"
      },
      "source": [
        "## Instrucciones Generales\n",
        "En este caso, se busca entender el comportamiento y desempeño de diferentes modelos de clasificación sobre este conjunto de datos, para predecir la variable de interés: **OK**, que servirá para predecir en casos futuros, según los datos de contactabilidad de un cliente, si el cliente aceptará o no contratar el depósito a plazo.\n",
        "\n",
        "Todos los alumnos, ya sea en grupo, o individualmente (si no tienen compañeros), deben contestar las preguntas que se indican en las secciones de \"Preguntas\", más adelante. Se puede recurrir a ejercicios de otras fuentes, así como al material de clases.\n",
        "\n",
        "El formato del email es:\n",
        "\n",
        "To: rsandova@ing.puc.cl\n",
        "\n",
        "Subject: Fundamentos Machine Learning - (AÑO)(MES)(DÍA)    (por ej: Fundamentos Machine Learning - 20210820)\n",
        "\n",
        "Integrantes (orden alfabético apellido): nombre apellido, nombre apellido, ...\n",
        "\n",
        "Pregunta 1\n",
        "\n",
        "*Se eliminaron las columnas ____, ____, ya que ...*\n",
        "\n",
        "Pregunta 2\n",
        "\n",
        "*(Tabla de datos de ejecuciones comparadas de los modelos y con diferentes proporciones de % entrenamiento-evaluación, así como indicando qué columna del dataset se eliminó, buscando mejorar el modelo)*\n",
        "\n",
        "*De la tabla anterior, se determina que el mejor desempeño de modelo es _________ usando una proporción de __________ para entrenamiento y __ para test y habiendo eliminado la columna ______. Esto se ve gracias al (los) indicador(es) _________*\n",
        "\n",
        "Pregunta 3\n",
        "\n",
        "*Se estima que el mejor modelo XXXXXXX tuvo ese desempeño, debido a que ______*\n",
        "\n",
        "**Nota: sólo se aceptan e-mails con todo el contenido (tablas, respuestas) en el cuerpo del e-mail, o alternativamente en forma de un informe lo más breve y conciso posible, en formato PDF.**\n",
        "\n"
      ]
    },
    {
      "cell_type": "markdown",
      "metadata": {
        "id": "nbsvny1wYwsT"
      },
      "source": [
        "## Paso 1: Instalar las librerías de modelos de clasificación\n",
        "\n",
        "Esto se ejecuta sólo una vez al comienzo de la sesión de cada persona. No se necesita volver a ejecutar con cada nueva prueba del resto de los scripts."
      ]
    },
    {
      "cell_type": "code",
      "metadata": {
        "id": "Yr8D6ajXY2T9",
        "colab": {
          "base_uri": "https://localhost:8080/"
        },
        "outputId": "f508e930-9a6d-437a-d2a4-bd88560ee0d5"
      },
      "source": [
        "install.packages('e1071')\n",
        "install.packages('caret')\n",
        "install.packages('rpart')\n",
        "install.packages('rpart.plot')\n",
        "install.packages('randomForest')\n",
        "install.packages(\"nnet\")\n",
        "install.packages('class')\n",
        "install.packages('Hmisc')\n",
        "\n",
        "#Incorporación de Semilla \n",
        "set.seed(1234)\n",
        "\n",
        "\n"
      ],
      "execution_count": null,
      "outputs": [
        {
          "output_type": "stream",
          "text": [
            "Installing package into ‘/usr/local/lib/R/site-library’\n",
            "(as ‘lib’ is unspecified)\n",
            "\n",
            "also installing the dependency ‘proxy’\n",
            "\n",
            "\n",
            "Installing package into ‘/usr/local/lib/R/site-library’\n",
            "(as ‘lib’ is unspecified)\n",
            "\n",
            "also installing the dependencies ‘numDeriv’, ‘SQUAREM’, ‘lava’, ‘prodlim’, ‘iterators’, ‘gower’, ‘ipred’, ‘timeDate’, ‘foreach’, ‘plyr’, ‘ModelMetrics’, ‘reshape2’, ‘recipes’, ‘pROC’\n",
            "\n",
            "\n",
            "Installing package into ‘/usr/local/lib/R/site-library’\n",
            "(as ‘lib’ is unspecified)\n",
            "\n",
            "Installing package into ‘/usr/local/lib/R/site-library’\n",
            "(as ‘lib’ is unspecified)\n",
            "\n",
            "Installing package into ‘/usr/local/lib/R/site-library’\n",
            "(as ‘lib’ is unspecified)\n",
            "\n",
            "Installing package into ‘/usr/local/lib/R/site-library’\n",
            "(as ‘lib’ is unspecified)\n",
            "\n",
            "Installing package into ‘/usr/local/lib/R/site-library’\n",
            "(as ‘lib’ is unspecified)\n",
            "\n",
            "Installing package into ‘/usr/local/lib/R/site-library’\n",
            "(as ‘lib’ is unspecified)\n",
            "\n",
            "also installing the dependencies ‘png’, ‘jpeg’, ‘checkmate’, ‘htmlwidgets’, ‘Formula’, ‘latticeExtra’, ‘gridExtra’, ‘htmlTable’, ‘viridis’\n",
            "\n",
            "\n"
          ],
          "name": "stderr"
        }
      ]
    },
    {
      "cell_type": "markdown",
      "metadata": {
        "id": "0q3bYb0RM5bx"
      },
      "source": [
        "## Paso 2: Carga y preparación de los datos\n",
        "\n",
        "La siguiente celda de código, carga los datos desde la URL de origen y luego preprocesa la información, realizando actividades de limpieza del dataset, además de balancer clases y prepara conjuntos de entrenamiento y evaluación.\n",
        "\n",
        "Esto también puede ser ejecutado una sola vez, si es conveniente."
      ]
    },
    {
      "cell_type": "code",
      "metadata": {
        "id": "yIIKPnj-IRE8",
        "colab": {
          "base_uri": "https://localhost:8080/",
          "height": 1000
        },
        "outputId": "901389c2-6971-4f43-ab76-87aac2dcf094"
      },
      "source": [
        "# Se declara la URL de dónde obtener los datos\n",
        "theUrlMain <- \"http://www.rsolver.com/dcc/docs/bank-additional-full.csv\"\n",
        "\n",
        "# Se declaran los nombres de las columnas\n",
        "columnas = c(\"Edad\",\"Ocupación\",\"EstadoCivil\",\"Educación\",\"Default\",\"Hipotecario\",\"Consumo\",\"Contacto\",\"Mes\",\"Día\",\n",
        "             \"Duración\",\"NumContactos\",\"DíasAtrás\",\"Previo\",\"ResultadoPrevio\",\n",
        "             \"EmpTasaVar\", \"IPC\", \"ICC\", \"Euribor3m\", \"NumEmpleados\", \"OK\")\n",
        "\n",
        "# Se cargan datos principales a una estructura o dataset (marketing.data), asignando nombres de atributos a las columnas.\n",
        "# Nótese que se incluye la conversión de valores \"unknown\" a \"NA\" para facilitar la gestión vacíos más adelante.\n",
        "marketing.data <- read.table(file = theUrlMain, header = TRUE, sep = \";\", col.names = columnas, na.strings=c(\"unknown\",\"NA\"))\n",
        "\n",
        "# Se eliminan los registros que tienen algún NA (antes: 'unknown')\n",
        "marketing.clean <- na.omit(marketing.data)\n",
        "dim(marketing.clean) # Sólo quedan poco más de 30.000 filas (de las 41.000 originales)\n",
        "\n",
        "# Se muestran las primeras líneas del dataset, incluyendo nombres asignados a las columnas.\n",
        "head(marketing.data, 20)\n",
        "dim(marketing.data)\n",
        "\n",
        "# Aquí se arman dos subconjuntos con los datos de cada una de las dos clases.\n",
        "# Se pueden ver los respectivos tamaños al terminar, evidenciando un desbalance.\n",
        "clean.data.YES <- marketing.clean[marketing.clean$OK == 'yes',]  \n",
        "clean.data.NO <- marketing.clean[marketing.clean$OK == 'no',]\n",
        "dim(clean.data.YES) # Se ve que este es el conjunto más pequeño\n",
        "dim(clean.data.NO)\n",
        "\n",
        "# Se balancean las clases para entrenar: se busca acercar la cantidad de ejemplos positivos, con los negativos.\n",
        "# Para esto se puede definir la cantidad de ejemplos de la clase más abundante (NO)\n",
        "# en una proporción (balance_ratio) de la cantidad de registros de la clase menos abundante (YES) \n",
        "# balance_ratio = 1.0 implica la misma cantidad para NO y para YES. Según haber probado, se puede elegir un número distinto de 1\n",
        "balance_ratio <- 1.0  \n",
        "\n",
        "clean.subdata.YES <- clean.data.YES  # No se aplica sample(): se usan todos los ejemplos de la clase OK (que es la que tiene menos ejemplos)\n",
        "clean.subdata.NO <- clean.data.NO[sample(nrow(clean.data.NO), balance_ratio*dim(clean.data.YES)[1]), ]\n",
        "\n",
        "# Muestra cantidad de ejemplos contenidos en cada subconjunto\n",
        "dim(clean.subdata.YES)\n",
        "dim(clean.subdata.NO)\n",
        "\n",
        "# Se juntan para el conjunto de referencia, ahora más balanceado\n",
        "clean.subdata <- rbind(clean.subdata.YES, clean.subdata.NO)\n",
        "\n",
        "library(Hmisc)\n",
        "describe(marketing.data)\n"
      ],
      "execution_count": null,
      "outputs": [
        {
          "output_type": "display_data",
          "data": {
            "text/plain": [
              "[1] 30488    21"
            ],
            "text/latex": "\\begin{enumerate*}\n\\item 30488\n\\item 21\n\\end{enumerate*}\n",
            "text/markdown": "1. 30488\n2. 21\n\n\n",
            "text/html": [
              "<style>\n",
              ".list-inline {list-style: none; margin:0; padding: 0}\n",
              ".list-inline>li {display: inline-block}\n",
              ".list-inline>li:not(:last-child)::after {content: \"\\00b7\"; padding: 0 .5ex}\n",
              "</style>\n",
              "<ol class=list-inline><li>30488</li><li>21</li></ol>\n"
            ]
          },
          "metadata": {}
        },
        {
          "output_type": "display_data",
          "data": {
            "text/plain": [
              "   Edad Ocupación   EstadoCivil Educación           Default Hipotecario Consumo\n",
              "1  56   housemaid   married     basic.4y            no      no          no     \n",
              "2  57   services    married     high.school         NA      no          no     \n",
              "3  37   services    married     high.school         no      yes         no     \n",
              "4  40   admin.      married     basic.6y            no      no          no     \n",
              "5  56   services    married     high.school         no      no          yes    \n",
              "6  45   services    married     basic.9y            NA      no          no     \n",
              "7  59   admin.      married     professional.course no      no          no     \n",
              "8  41   blue-collar married     NA                  NA      no          no     \n",
              "9  24   technician  single      professional.course no      yes         no     \n",
              "10 25   services    single      high.school         no      yes         no     \n",
              "11 41   blue-collar married     NA                  NA      no          no     \n",
              "12 25   services    single      high.school         no      yes         no     \n",
              "13 29   blue-collar single      high.school         no      no          yes    \n",
              "14 57   housemaid   divorced    basic.4y            no      yes         no     \n",
              "15 35   blue-collar married     basic.6y            no      yes         no     \n",
              "16 54   retired     married     basic.9y            NA      yes         yes    \n",
              "17 35   blue-collar married     basic.6y            no      yes         no     \n",
              "18 46   blue-collar married     basic.6y            NA      yes         yes    \n",
              "19 50   blue-collar married     basic.9y            no      yes         yes    \n",
              "20 39   management  single      basic.9y            NA      no          no     \n",
              "   Contacto  Mes Día ⋯ NumContactos DíasAtrás Previo ResultadoPrevio EmpTasaVar\n",
              "1  telephone may mon ⋯ 1            999       0      nonexistent     1.1       \n",
              "2  telephone may mon ⋯ 1            999       0      nonexistent     1.1       \n",
              "3  telephone may mon ⋯ 1            999       0      nonexistent     1.1       \n",
              "4  telephone may mon ⋯ 1            999       0      nonexistent     1.1       \n",
              "5  telephone may mon ⋯ 1            999       0      nonexistent     1.1       \n",
              "6  telephone may mon ⋯ 1            999       0      nonexistent     1.1       \n",
              "7  telephone may mon ⋯ 1            999       0      nonexistent     1.1       \n",
              "8  telephone may mon ⋯ 1            999       0      nonexistent     1.1       \n",
              "9  telephone may mon ⋯ 1            999       0      nonexistent     1.1       \n",
              "10 telephone may mon ⋯ 1            999       0      nonexistent     1.1       \n",
              "11 telephone may mon ⋯ 1            999       0      nonexistent     1.1       \n",
              "12 telephone may mon ⋯ 1            999       0      nonexistent     1.1       \n",
              "13 telephone may mon ⋯ 1            999       0      nonexistent     1.1       \n",
              "14 telephone may mon ⋯ 1            999       0      nonexistent     1.1       \n",
              "15 telephone may mon ⋯ 1            999       0      nonexistent     1.1       \n",
              "16 telephone may mon ⋯ 1            999       0      nonexistent     1.1       \n",
              "17 telephone may mon ⋯ 1            999       0      nonexistent     1.1       \n",
              "18 telephone may mon ⋯ 1            999       0      nonexistent     1.1       \n",
              "19 telephone may mon ⋯ 1            999       0      nonexistent     1.1       \n",
              "20 telephone may mon ⋯ 1            999       0      nonexistent     1.1       \n",
              "   IPC    ICC   Euribor3m NumEmpleados OK\n",
              "1  93.994 -36.4 4.857     5191         no\n",
              "2  93.994 -36.4 4.857     5191         no\n",
              "3  93.994 -36.4 4.857     5191         no\n",
              "4  93.994 -36.4 4.857     5191         no\n",
              "5  93.994 -36.4 4.857     5191         no\n",
              "6  93.994 -36.4 4.857     5191         no\n",
              "7  93.994 -36.4 4.857     5191         no\n",
              "8  93.994 -36.4 4.857     5191         no\n",
              "9  93.994 -36.4 4.857     5191         no\n",
              "10 93.994 -36.4 4.857     5191         no\n",
              "11 93.994 -36.4 4.857     5191         no\n",
              "12 93.994 -36.4 4.857     5191         no\n",
              "13 93.994 -36.4 4.857     5191         no\n",
              "14 93.994 -36.4 4.857     5191         no\n",
              "15 93.994 -36.4 4.857     5191         no\n",
              "16 93.994 -36.4 4.857     5191         no\n",
              "17 93.994 -36.4 4.857     5191         no\n",
              "18 93.994 -36.4 4.857     5191         no\n",
              "19 93.994 -36.4 4.857     5191         no\n",
              "20 93.994 -36.4 4.857     5191         no"
            ],
            "text/latex": "A data.frame: 20 × 21\n\\begin{tabular}{r|lllllllllllllllllllll}\n  & Edad & Ocupación & EstadoCivil & Educación & Default & Hipotecario & Consumo & Contacto & Mes & Día & ⋯ & NumContactos & DíasAtrás & Previo & ResultadoPrevio & EmpTasaVar & IPC & ICC & Euribor3m & NumEmpleados & OK\\\\\n  & <int> & <chr> & <chr> & <chr> & <chr> & <chr> & <chr> & <chr> & <chr> & <chr> & ⋯ & <int> & <int> & <int> & <chr> & <dbl> & <dbl> & <dbl> & <dbl> & <dbl> & <chr>\\\\\n\\hline\n\t1 & 56 & housemaid   & married  & basic.4y            & no & no  & no  & telephone & may & mon & ⋯ & 1 & 999 & 0 & nonexistent & 1.1 & 93.994 & -36.4 & 4.857 & 5191 & no\\\\\n\t2 & 57 & services    & married  & high.school         & NA & no  & no  & telephone & may & mon & ⋯ & 1 & 999 & 0 & nonexistent & 1.1 & 93.994 & -36.4 & 4.857 & 5191 & no\\\\\n\t3 & 37 & services    & married  & high.school         & no & yes & no  & telephone & may & mon & ⋯ & 1 & 999 & 0 & nonexistent & 1.1 & 93.994 & -36.4 & 4.857 & 5191 & no\\\\\n\t4 & 40 & admin.      & married  & basic.6y            & no & no  & no  & telephone & may & mon & ⋯ & 1 & 999 & 0 & nonexistent & 1.1 & 93.994 & -36.4 & 4.857 & 5191 & no\\\\\n\t5 & 56 & services    & married  & high.school         & no & no  & yes & telephone & may & mon & ⋯ & 1 & 999 & 0 & nonexistent & 1.1 & 93.994 & -36.4 & 4.857 & 5191 & no\\\\\n\t6 & 45 & services    & married  & basic.9y            & NA & no  & no  & telephone & may & mon & ⋯ & 1 & 999 & 0 & nonexistent & 1.1 & 93.994 & -36.4 & 4.857 & 5191 & no\\\\\n\t7 & 59 & admin.      & married  & professional.course & no & no  & no  & telephone & may & mon & ⋯ & 1 & 999 & 0 & nonexistent & 1.1 & 93.994 & -36.4 & 4.857 & 5191 & no\\\\\n\t8 & 41 & blue-collar & married  & NA                  & NA & no  & no  & telephone & may & mon & ⋯ & 1 & 999 & 0 & nonexistent & 1.1 & 93.994 & -36.4 & 4.857 & 5191 & no\\\\\n\t9 & 24 & technician  & single   & professional.course & no & yes & no  & telephone & may & mon & ⋯ & 1 & 999 & 0 & nonexistent & 1.1 & 93.994 & -36.4 & 4.857 & 5191 & no\\\\\n\t10 & 25 & services    & single   & high.school         & no & yes & no  & telephone & may & mon & ⋯ & 1 & 999 & 0 & nonexistent & 1.1 & 93.994 & -36.4 & 4.857 & 5191 & no\\\\\n\t11 & 41 & blue-collar & married  & NA                  & NA & no  & no  & telephone & may & mon & ⋯ & 1 & 999 & 0 & nonexistent & 1.1 & 93.994 & -36.4 & 4.857 & 5191 & no\\\\\n\t12 & 25 & services    & single   & high.school         & no & yes & no  & telephone & may & mon & ⋯ & 1 & 999 & 0 & nonexistent & 1.1 & 93.994 & -36.4 & 4.857 & 5191 & no\\\\\n\t13 & 29 & blue-collar & single   & high.school         & no & no  & yes & telephone & may & mon & ⋯ & 1 & 999 & 0 & nonexistent & 1.1 & 93.994 & -36.4 & 4.857 & 5191 & no\\\\\n\t14 & 57 & housemaid   & divorced & basic.4y            & no & yes & no  & telephone & may & mon & ⋯ & 1 & 999 & 0 & nonexistent & 1.1 & 93.994 & -36.4 & 4.857 & 5191 & no\\\\\n\t15 & 35 & blue-collar & married  & basic.6y            & no & yes & no  & telephone & may & mon & ⋯ & 1 & 999 & 0 & nonexistent & 1.1 & 93.994 & -36.4 & 4.857 & 5191 & no\\\\\n\t16 & 54 & retired     & married  & basic.9y            & NA & yes & yes & telephone & may & mon & ⋯ & 1 & 999 & 0 & nonexistent & 1.1 & 93.994 & -36.4 & 4.857 & 5191 & no\\\\\n\t17 & 35 & blue-collar & married  & basic.6y            & no & yes & no  & telephone & may & mon & ⋯ & 1 & 999 & 0 & nonexistent & 1.1 & 93.994 & -36.4 & 4.857 & 5191 & no\\\\\n\t18 & 46 & blue-collar & married  & basic.6y            & NA & yes & yes & telephone & may & mon & ⋯ & 1 & 999 & 0 & nonexistent & 1.1 & 93.994 & -36.4 & 4.857 & 5191 & no\\\\\n\t19 & 50 & blue-collar & married  & basic.9y            & no & yes & yes & telephone & may & mon & ⋯ & 1 & 999 & 0 & nonexistent & 1.1 & 93.994 & -36.4 & 4.857 & 5191 & no\\\\\n\t20 & 39 & management  & single   & basic.9y            & NA & no  & no  & telephone & may & mon & ⋯ & 1 & 999 & 0 & nonexistent & 1.1 & 93.994 & -36.4 & 4.857 & 5191 & no\\\\\n\\end{tabular}\n",
            "text/markdown": "\nA data.frame: 20 × 21\n\n| <!--/--> | Edad &lt;int&gt; | Ocupación &lt;chr&gt; | EstadoCivil &lt;chr&gt; | Educación &lt;chr&gt; | Default &lt;chr&gt; | Hipotecario &lt;chr&gt; | Consumo &lt;chr&gt; | Contacto &lt;chr&gt; | Mes &lt;chr&gt; | Día &lt;chr&gt; | ⋯ ⋯ | NumContactos &lt;int&gt; | DíasAtrás &lt;int&gt; | Previo &lt;int&gt; | ResultadoPrevio &lt;chr&gt; | EmpTasaVar &lt;dbl&gt; | IPC &lt;dbl&gt; | ICC &lt;dbl&gt; | Euribor3m &lt;dbl&gt; | NumEmpleados &lt;dbl&gt; | OK &lt;chr&gt; |\n|---|---|---|---|---|---|---|---|---|---|---|---|---|---|---|---|---|---|---|---|---|---|\n| 1 | 56 | housemaid   | married  | basic.4y            | no | no  | no  | telephone | may | mon | ⋯ | 1 | 999 | 0 | nonexistent | 1.1 | 93.994 | -36.4 | 4.857 | 5191 | no |\n| 2 | 57 | services    | married  | high.school         | NA | no  | no  | telephone | may | mon | ⋯ | 1 | 999 | 0 | nonexistent | 1.1 | 93.994 | -36.4 | 4.857 | 5191 | no |\n| 3 | 37 | services    | married  | high.school         | no | yes | no  | telephone | may | mon | ⋯ | 1 | 999 | 0 | nonexistent | 1.1 | 93.994 | -36.4 | 4.857 | 5191 | no |\n| 4 | 40 | admin.      | married  | basic.6y            | no | no  | no  | telephone | may | mon | ⋯ | 1 | 999 | 0 | nonexistent | 1.1 | 93.994 | -36.4 | 4.857 | 5191 | no |\n| 5 | 56 | services    | married  | high.school         | no | no  | yes | telephone | may | mon | ⋯ | 1 | 999 | 0 | nonexistent | 1.1 | 93.994 | -36.4 | 4.857 | 5191 | no |\n| 6 | 45 | services    | married  | basic.9y            | NA | no  | no  | telephone | may | mon | ⋯ | 1 | 999 | 0 | nonexistent | 1.1 | 93.994 | -36.4 | 4.857 | 5191 | no |\n| 7 | 59 | admin.      | married  | professional.course | no | no  | no  | telephone | may | mon | ⋯ | 1 | 999 | 0 | nonexistent | 1.1 | 93.994 | -36.4 | 4.857 | 5191 | no |\n| 8 | 41 | blue-collar | married  | NA                  | NA | no  | no  | telephone | may | mon | ⋯ | 1 | 999 | 0 | nonexistent | 1.1 | 93.994 | -36.4 | 4.857 | 5191 | no |\n| 9 | 24 | technician  | single   | professional.course | no | yes | no  | telephone | may | mon | ⋯ | 1 | 999 | 0 | nonexistent | 1.1 | 93.994 | -36.4 | 4.857 | 5191 | no |\n| 10 | 25 | services    | single   | high.school         | no | yes | no  | telephone | may | mon | ⋯ | 1 | 999 | 0 | nonexistent | 1.1 | 93.994 | -36.4 | 4.857 | 5191 | no |\n| 11 | 41 | blue-collar | married  | NA                  | NA | no  | no  | telephone | may | mon | ⋯ | 1 | 999 | 0 | nonexistent | 1.1 | 93.994 | -36.4 | 4.857 | 5191 | no |\n| 12 | 25 | services    | single   | high.school         | no | yes | no  | telephone | may | mon | ⋯ | 1 | 999 | 0 | nonexistent | 1.1 | 93.994 | -36.4 | 4.857 | 5191 | no |\n| 13 | 29 | blue-collar | single   | high.school         | no | no  | yes | telephone | may | mon | ⋯ | 1 | 999 | 0 | nonexistent | 1.1 | 93.994 | -36.4 | 4.857 | 5191 | no |\n| 14 | 57 | housemaid   | divorced | basic.4y            | no | yes | no  | telephone | may | mon | ⋯ | 1 | 999 | 0 | nonexistent | 1.1 | 93.994 | -36.4 | 4.857 | 5191 | no |\n| 15 | 35 | blue-collar | married  | basic.6y            | no | yes | no  | telephone | may | mon | ⋯ | 1 | 999 | 0 | nonexistent | 1.1 | 93.994 | -36.4 | 4.857 | 5191 | no |\n| 16 | 54 | retired     | married  | basic.9y            | NA | yes | yes | telephone | may | mon | ⋯ | 1 | 999 | 0 | nonexistent | 1.1 | 93.994 | -36.4 | 4.857 | 5191 | no |\n| 17 | 35 | blue-collar | married  | basic.6y            | no | yes | no  | telephone | may | mon | ⋯ | 1 | 999 | 0 | nonexistent | 1.1 | 93.994 | -36.4 | 4.857 | 5191 | no |\n| 18 | 46 | blue-collar | married  | basic.6y            | NA | yes | yes | telephone | may | mon | ⋯ | 1 | 999 | 0 | nonexistent | 1.1 | 93.994 | -36.4 | 4.857 | 5191 | no |\n| 19 | 50 | blue-collar | married  | basic.9y            | no | yes | yes | telephone | may | mon | ⋯ | 1 | 999 | 0 | nonexistent | 1.1 | 93.994 | -36.4 | 4.857 | 5191 | no |\n| 20 | 39 | management  | single   | basic.9y            | NA | no  | no  | telephone | may | mon | ⋯ | 1 | 999 | 0 | nonexistent | 1.1 | 93.994 | -36.4 | 4.857 | 5191 | no |\n\n",
            "text/html": [
              "<table class=\"dataframe\">\n",
              "<caption>A data.frame: 20 × 21</caption>\n",
              "<thead>\n",
              "\t<tr><th></th><th scope=col>Edad</th><th scope=col>Ocupación</th><th scope=col>EstadoCivil</th><th scope=col>Educación</th><th scope=col>Default</th><th scope=col>Hipotecario</th><th scope=col>Consumo</th><th scope=col>Contacto</th><th scope=col>Mes</th><th scope=col>Día</th><th scope=col>⋯</th><th scope=col>NumContactos</th><th scope=col>DíasAtrás</th><th scope=col>Previo</th><th scope=col>ResultadoPrevio</th><th scope=col>EmpTasaVar</th><th scope=col>IPC</th><th scope=col>ICC</th><th scope=col>Euribor3m</th><th scope=col>NumEmpleados</th><th scope=col>OK</th></tr>\n",
              "\t<tr><th></th><th scope=col>&lt;int&gt;</th><th scope=col>&lt;chr&gt;</th><th scope=col>&lt;chr&gt;</th><th scope=col>&lt;chr&gt;</th><th scope=col>&lt;chr&gt;</th><th scope=col>&lt;chr&gt;</th><th scope=col>&lt;chr&gt;</th><th scope=col>&lt;chr&gt;</th><th scope=col>&lt;chr&gt;</th><th scope=col>&lt;chr&gt;</th><th scope=col>⋯</th><th scope=col>&lt;int&gt;</th><th scope=col>&lt;int&gt;</th><th scope=col>&lt;int&gt;</th><th scope=col>&lt;chr&gt;</th><th scope=col>&lt;dbl&gt;</th><th scope=col>&lt;dbl&gt;</th><th scope=col>&lt;dbl&gt;</th><th scope=col>&lt;dbl&gt;</th><th scope=col>&lt;dbl&gt;</th><th scope=col>&lt;chr&gt;</th></tr>\n",
              "</thead>\n",
              "<tbody>\n",
              "\t<tr><th scope=row>1</th><td>56</td><td>housemaid  </td><td>married </td><td>basic.4y           </td><td>no</td><td>no </td><td>no </td><td>telephone</td><td>may</td><td>mon</td><td>⋯</td><td>1</td><td>999</td><td>0</td><td>nonexistent</td><td>1.1</td><td>93.994</td><td>-36.4</td><td>4.857</td><td>5191</td><td>no</td></tr>\n",
              "\t<tr><th scope=row>2</th><td>57</td><td>services   </td><td>married </td><td>high.school        </td><td>NA</td><td>no </td><td>no </td><td>telephone</td><td>may</td><td>mon</td><td>⋯</td><td>1</td><td>999</td><td>0</td><td>nonexistent</td><td>1.1</td><td>93.994</td><td>-36.4</td><td>4.857</td><td>5191</td><td>no</td></tr>\n",
              "\t<tr><th scope=row>3</th><td>37</td><td>services   </td><td>married </td><td>high.school        </td><td>no</td><td>yes</td><td>no </td><td>telephone</td><td>may</td><td>mon</td><td>⋯</td><td>1</td><td>999</td><td>0</td><td>nonexistent</td><td>1.1</td><td>93.994</td><td>-36.4</td><td>4.857</td><td>5191</td><td>no</td></tr>\n",
              "\t<tr><th scope=row>4</th><td>40</td><td>admin.     </td><td>married </td><td>basic.6y           </td><td>no</td><td>no </td><td>no </td><td>telephone</td><td>may</td><td>mon</td><td>⋯</td><td>1</td><td>999</td><td>0</td><td>nonexistent</td><td>1.1</td><td>93.994</td><td>-36.4</td><td>4.857</td><td>5191</td><td>no</td></tr>\n",
              "\t<tr><th scope=row>5</th><td>56</td><td>services   </td><td>married </td><td>high.school        </td><td>no</td><td>no </td><td>yes</td><td>telephone</td><td>may</td><td>mon</td><td>⋯</td><td>1</td><td>999</td><td>0</td><td>nonexistent</td><td>1.1</td><td>93.994</td><td>-36.4</td><td>4.857</td><td>5191</td><td>no</td></tr>\n",
              "\t<tr><th scope=row>6</th><td>45</td><td>services   </td><td>married </td><td>basic.9y           </td><td>NA</td><td>no </td><td>no </td><td>telephone</td><td>may</td><td>mon</td><td>⋯</td><td>1</td><td>999</td><td>0</td><td>nonexistent</td><td>1.1</td><td>93.994</td><td>-36.4</td><td>4.857</td><td>5191</td><td>no</td></tr>\n",
              "\t<tr><th scope=row>7</th><td>59</td><td>admin.     </td><td>married </td><td>professional.course</td><td>no</td><td>no </td><td>no </td><td>telephone</td><td>may</td><td>mon</td><td>⋯</td><td>1</td><td>999</td><td>0</td><td>nonexistent</td><td>1.1</td><td>93.994</td><td>-36.4</td><td>4.857</td><td>5191</td><td>no</td></tr>\n",
              "\t<tr><th scope=row>8</th><td>41</td><td>blue-collar</td><td>married </td><td>NA                 </td><td>NA</td><td>no </td><td>no </td><td>telephone</td><td>may</td><td>mon</td><td>⋯</td><td>1</td><td>999</td><td>0</td><td>nonexistent</td><td>1.1</td><td>93.994</td><td>-36.4</td><td>4.857</td><td>5191</td><td>no</td></tr>\n",
              "\t<tr><th scope=row>9</th><td>24</td><td>technician </td><td>single  </td><td>professional.course</td><td>no</td><td>yes</td><td>no </td><td>telephone</td><td>may</td><td>mon</td><td>⋯</td><td>1</td><td>999</td><td>0</td><td>nonexistent</td><td>1.1</td><td>93.994</td><td>-36.4</td><td>4.857</td><td>5191</td><td>no</td></tr>\n",
              "\t<tr><th scope=row>10</th><td>25</td><td>services   </td><td>single  </td><td>high.school        </td><td>no</td><td>yes</td><td>no </td><td>telephone</td><td>may</td><td>mon</td><td>⋯</td><td>1</td><td>999</td><td>0</td><td>nonexistent</td><td>1.1</td><td>93.994</td><td>-36.4</td><td>4.857</td><td>5191</td><td>no</td></tr>\n",
              "\t<tr><th scope=row>11</th><td>41</td><td>blue-collar</td><td>married </td><td>NA                 </td><td>NA</td><td>no </td><td>no </td><td>telephone</td><td>may</td><td>mon</td><td>⋯</td><td>1</td><td>999</td><td>0</td><td>nonexistent</td><td>1.1</td><td>93.994</td><td>-36.4</td><td>4.857</td><td>5191</td><td>no</td></tr>\n",
              "\t<tr><th scope=row>12</th><td>25</td><td>services   </td><td>single  </td><td>high.school        </td><td>no</td><td>yes</td><td>no </td><td>telephone</td><td>may</td><td>mon</td><td>⋯</td><td>1</td><td>999</td><td>0</td><td>nonexistent</td><td>1.1</td><td>93.994</td><td>-36.4</td><td>4.857</td><td>5191</td><td>no</td></tr>\n",
              "\t<tr><th scope=row>13</th><td>29</td><td>blue-collar</td><td>single  </td><td>high.school        </td><td>no</td><td>no </td><td>yes</td><td>telephone</td><td>may</td><td>mon</td><td>⋯</td><td>1</td><td>999</td><td>0</td><td>nonexistent</td><td>1.1</td><td>93.994</td><td>-36.4</td><td>4.857</td><td>5191</td><td>no</td></tr>\n",
              "\t<tr><th scope=row>14</th><td>57</td><td>housemaid  </td><td>divorced</td><td>basic.4y           </td><td>no</td><td>yes</td><td>no </td><td>telephone</td><td>may</td><td>mon</td><td>⋯</td><td>1</td><td>999</td><td>0</td><td>nonexistent</td><td>1.1</td><td>93.994</td><td>-36.4</td><td>4.857</td><td>5191</td><td>no</td></tr>\n",
              "\t<tr><th scope=row>15</th><td>35</td><td>blue-collar</td><td>married </td><td>basic.6y           </td><td>no</td><td>yes</td><td>no </td><td>telephone</td><td>may</td><td>mon</td><td>⋯</td><td>1</td><td>999</td><td>0</td><td>nonexistent</td><td>1.1</td><td>93.994</td><td>-36.4</td><td>4.857</td><td>5191</td><td>no</td></tr>\n",
              "\t<tr><th scope=row>16</th><td>54</td><td>retired    </td><td>married </td><td>basic.9y           </td><td>NA</td><td>yes</td><td>yes</td><td>telephone</td><td>may</td><td>mon</td><td>⋯</td><td>1</td><td>999</td><td>0</td><td>nonexistent</td><td>1.1</td><td>93.994</td><td>-36.4</td><td>4.857</td><td>5191</td><td>no</td></tr>\n",
              "\t<tr><th scope=row>17</th><td>35</td><td>blue-collar</td><td>married </td><td>basic.6y           </td><td>no</td><td>yes</td><td>no </td><td>telephone</td><td>may</td><td>mon</td><td>⋯</td><td>1</td><td>999</td><td>0</td><td>nonexistent</td><td>1.1</td><td>93.994</td><td>-36.4</td><td>4.857</td><td>5191</td><td>no</td></tr>\n",
              "\t<tr><th scope=row>18</th><td>46</td><td>blue-collar</td><td>married </td><td>basic.6y           </td><td>NA</td><td>yes</td><td>yes</td><td>telephone</td><td>may</td><td>mon</td><td>⋯</td><td>1</td><td>999</td><td>0</td><td>nonexistent</td><td>1.1</td><td>93.994</td><td>-36.4</td><td>4.857</td><td>5191</td><td>no</td></tr>\n",
              "\t<tr><th scope=row>19</th><td>50</td><td>blue-collar</td><td>married </td><td>basic.9y           </td><td>no</td><td>yes</td><td>yes</td><td>telephone</td><td>may</td><td>mon</td><td>⋯</td><td>1</td><td>999</td><td>0</td><td>nonexistent</td><td>1.1</td><td>93.994</td><td>-36.4</td><td>4.857</td><td>5191</td><td>no</td></tr>\n",
              "\t<tr><th scope=row>20</th><td>39</td><td>management </td><td>single  </td><td>basic.9y           </td><td>NA</td><td>no </td><td>no </td><td>telephone</td><td>may</td><td>mon</td><td>⋯</td><td>1</td><td>999</td><td>0</td><td>nonexistent</td><td>1.1</td><td>93.994</td><td>-36.4</td><td>4.857</td><td>5191</td><td>no</td></tr>\n",
              "</tbody>\n",
              "</table>\n"
            ]
          },
          "metadata": {}
        },
        {
          "output_type": "display_data",
          "data": {
            "text/plain": [
              "[1] 41188    21"
            ],
            "text/latex": "\\begin{enumerate*}\n\\item 41188\n\\item 21\n\\end{enumerate*}\n",
            "text/markdown": "1. 41188\n2. 21\n\n\n",
            "text/html": [
              "<style>\n",
              ".list-inline {list-style: none; margin:0; padding: 0}\n",
              ".list-inline>li {display: inline-block}\n",
              ".list-inline>li:not(:last-child)::after {content: \"\\00b7\"; padding: 0 .5ex}\n",
              "</style>\n",
              "<ol class=list-inline><li>41188</li><li>21</li></ol>\n"
            ]
          },
          "metadata": {}
        },
        {
          "output_type": "display_data",
          "data": {
            "text/plain": [
              "[1] 3859   21"
            ],
            "text/latex": "\\begin{enumerate*}\n\\item 3859\n\\item 21\n\\end{enumerate*}\n",
            "text/markdown": "1. 3859\n2. 21\n\n\n",
            "text/html": [
              "<style>\n",
              ".list-inline {list-style: none; margin:0; padding: 0}\n",
              ".list-inline>li {display: inline-block}\n",
              ".list-inline>li:not(:last-child)::after {content: \"\\00b7\"; padding: 0 .5ex}\n",
              "</style>\n",
              "<ol class=list-inline><li>3859</li><li>21</li></ol>\n"
            ]
          },
          "metadata": {}
        },
        {
          "output_type": "display_data",
          "data": {
            "text/plain": [
              "[1] 26629    21"
            ],
            "text/latex": "\\begin{enumerate*}\n\\item 26629\n\\item 21\n\\end{enumerate*}\n",
            "text/markdown": "1. 26629\n2. 21\n\n\n",
            "text/html": [
              "<style>\n",
              ".list-inline {list-style: none; margin:0; padding: 0}\n",
              ".list-inline>li {display: inline-block}\n",
              ".list-inline>li:not(:last-child)::after {content: \"\\00b7\"; padding: 0 .5ex}\n",
              "</style>\n",
              "<ol class=list-inline><li>26629</li><li>21</li></ol>\n"
            ]
          },
          "metadata": {}
        },
        {
          "output_type": "display_data",
          "data": {
            "text/plain": [
              "[1] 3859   21"
            ],
            "text/latex": "\\begin{enumerate*}\n\\item 3859\n\\item 21\n\\end{enumerate*}\n",
            "text/markdown": "1. 3859\n2. 21\n\n\n",
            "text/html": [
              "<style>\n",
              ".list-inline {list-style: none; margin:0; padding: 0}\n",
              ".list-inline>li {display: inline-block}\n",
              ".list-inline>li:not(:last-child)::after {content: \"\\00b7\"; padding: 0 .5ex}\n",
              "</style>\n",
              "<ol class=list-inline><li>3859</li><li>21</li></ol>\n"
            ]
          },
          "metadata": {}
        },
        {
          "output_type": "display_data",
          "data": {
            "text/plain": [
              "[1] 3859   21"
            ],
            "text/latex": "\\begin{enumerate*}\n\\item 3859\n\\item 21\n\\end{enumerate*}\n",
            "text/markdown": "1. 3859\n2. 21\n\n\n",
            "text/html": [
              "<style>\n",
              ".list-inline {list-style: none; margin:0; padding: 0}\n",
              ".list-inline>li {display: inline-block}\n",
              ".list-inline>li:not(:last-child)::after {content: \"\\00b7\"; padding: 0 .5ex}\n",
              "</style>\n",
              "<ol class=list-inline><li>3859</li><li>21</li></ol>\n"
            ]
          },
          "metadata": {}
        },
        {
          "output_type": "stream",
          "text": [
            "Loading required package: lattice\n",
            "\n",
            "Loading required package: survival\n",
            "\n",
            "Loading required package: Formula\n",
            "\n",
            "Loading required package: ggplot2\n",
            "\n",
            "\n",
            "Attaching package: ‘Hmisc’\n",
            "\n",
            "\n",
            "The following objects are masked from ‘package:base’:\n",
            "\n",
            "    format.pval, units\n",
            "\n",
            "\n"
          ],
          "name": "stderr"
        },
        {
          "output_type": "display_data",
          "data": {
            "text/plain": [
              "marketing.data \n",
              "\n",
              " 21  Variables      41188  Observations\n",
              "--------------------------------------------------------------------------------\n",
              "Edad \n",
              "       n  missing distinct     Info     Mean      Gmd      .05      .10 \n",
              "   41188        0       78    0.999    40.02    11.57       26       28 \n",
              "     .25      .50      .75      .90      .95 \n",
              "      32       38       47       55       58 \n",
              "\n",
              "lowest : 17 18 19 20 21, highest: 91 92 94 95 98\n",
              "--------------------------------------------------------------------------------\n",
              "Ocupación \n",
              "       n  missing distinct \n",
              "   40858      330       11 \n",
              "\n",
              "lowest : admin.        blue-collar   entrepreneur  housemaid     management   \n",
              "highest: self-employed services      student       technician    unemployed   \n",
              "\n",
              "admin. (10422, 0.255), blue-collar (9254, 0.226), entrepreneur (1456, 0.036),\n",
              "housemaid (1060, 0.026), management (2924, 0.072), retired (1720, 0.042),\n",
              "self-employed (1421, 0.035), services (3969, 0.097), student (875, 0.021),\n",
              "technician (6743, 0.165), unemployed (1014, 0.025)\n",
              "--------------------------------------------------------------------------------\n",
              "EstadoCivil \n",
              "       n  missing distinct \n",
              "   41108       80        3 \n",
              "                                     \n",
              "Value      divorced  married   single\n",
              "Frequency      4612    24928    11568\n",
              "Proportion    0.112    0.606    0.281\n",
              "--------------------------------------------------------------------------------\n",
              "Educación \n",
              "       n  missing distinct \n",
              "   39457     1731        7 \n",
              "\n",
              "lowest : basic.4y            basic.6y            basic.9y            high.school         illiterate         \n",
              "highest: basic.9y            high.school         illiterate          professional.course university.degree  \n",
              "\n",
              "basic.4y (4176, 0.106), basic.6y (2292, 0.058), basic.9y (6045, 0.153),\n",
              "high.school (9515, 0.241), illiterate (18, 0.000), professional.course (5243,\n",
              "0.133), university.degree (12168, 0.308)\n",
              "--------------------------------------------------------------------------------\n",
              "Default \n",
              "       n  missing distinct \n",
              "   32591     8597        2 \n",
              "                      \n",
              "Value         no   yes\n",
              "Frequency  32588     3\n",
              "Proportion     1     0\n",
              "--------------------------------------------------------------------------------\n",
              "Hipotecario \n",
              "       n  missing distinct \n",
              "   40198      990        2 \n",
              "                      \n",
              "Value         no   yes\n",
              "Frequency  18622 21576\n",
              "Proportion 0.463 0.537\n",
              "--------------------------------------------------------------------------------\n",
              "Consumo \n",
              "       n  missing distinct \n",
              "   40198      990        2 \n",
              "                      \n",
              "Value         no   yes\n",
              "Frequency  33950  6248\n",
              "Proportion 0.845 0.155\n",
              "--------------------------------------------------------------------------------\n",
              "Contacto \n",
              "       n  missing distinct \n",
              "   41188        0        2 \n",
              "                              \n",
              "Value       cellular telephone\n",
              "Frequency      26144     15044\n",
              "Proportion     0.635     0.365\n",
              "--------------------------------------------------------------------------------\n",
              "Mes \n",
              "       n  missing distinct \n",
              "   41188        0       10 \n",
              "\n",
              "lowest : apr aug dec jul jun, highest: mar may nov oct sep\n",
              "                                                                      \n",
              "Value        apr   aug   dec   jul   jun   mar   may   nov   oct   sep\n",
              "Frequency   2632  6178   182  7174  5318   546 13769  4101   718   570\n",
              "Proportion 0.064 0.150 0.004 0.174 0.129 0.013 0.334 0.100 0.017 0.014\n",
              "--------------------------------------------------------------------------------\n",
              "Día \n",
              "       n  missing distinct \n",
              "   41188        0        5 \n",
              "\n",
              "lowest : fri mon thu tue wed, highest: fri mon thu tue wed\n",
              "                                        \n",
              "Value        fri   mon   thu   tue   wed\n",
              "Frequency   7827  8514  8623  8090  8134\n",
              "Proportion 0.190 0.207 0.209 0.196 0.197\n",
              "--------------------------------------------------------------------------------\n",
              "Duración \n",
              "       n  missing distinct     Info     Mean      Gmd      .05      .10 \n",
              "   41188        0     1544        1    258.3      236     36.0     59.0 \n",
              "     .25      .50      .75      .90      .95 \n",
              "   102.0    180.0    319.0    551.0    752.7 \n",
              "\n",
              "lowest :    0    1    2    3    4, highest: 3631 3643 3785 4199 4918\n",
              "--------------------------------------------------------------------------------\n",
              "NumContactos \n",
              "       n  missing distinct     Info     Mean      Gmd      .05      .10 \n",
              "   41188        0       42    0.902    2.568    2.155        1        1 \n",
              "     .25      .50      .75      .90      .95 \n",
              "       1        2        3        5        7 \n",
              "\n",
              "lowest :  1  2  3  4  5, highest: 40 41 42 43 56\n",
              "--------------------------------------------------------------------------------\n",
              "DíasAtrás \n",
              "       n  missing distinct     Info     Mean      Gmd      .05      .10 \n",
              "   41188        0       27    0.106    962.5    70.37      999      999 \n",
              "     .25      .50      .75      .90      .95 \n",
              "     999      999      999      999      999 \n",
              "\n",
              "lowest :   0   1   2   3   4, highest:  22  25  26  27 999\n",
              "                                                                            \n",
              "Value          0     2     4     6     8    10    12    14    16    18    20\n",
              "Frequency     41    61   603   412   142    52   122    20    43     7     6\n",
              "Proportion 0.001 0.001 0.015 0.010 0.003 0.001 0.003 0.000 0.001 0.000 0.000\n",
              "                                        \n",
              "Value         22    24    26    28  1000\n",
              "Frequency      3     1     1     1 39673\n",
              "Proportion 0.000 0.000 0.000 0.000 0.963\n",
              "\n",
              "For the frequency table, variable is rounded to the nearest 2\n",
              "--------------------------------------------------------------------------------\n",
              "Previo \n",
              "       n  missing distinct     Info     Mean      Gmd \n",
              "   41188        0        8    0.355    0.173   0.3072 \n",
              "\n",
              "lowest : 0 1 2 3 4, highest: 3 4 5 6 7\n",
              "                                                          \n",
              "Value          0     1     2     3     4     5     6     7\n",
              "Frequency  35563  4561   754   216    70    18     5     1\n",
              "Proportion 0.863 0.111 0.018 0.005 0.002 0.000 0.000 0.000\n",
              "--------------------------------------------------------------------------------\n",
              "ResultadoPrevio \n",
              "       n  missing distinct \n",
              "   41188        0        3 \n",
              "                                              \n",
              "Value          failure nonexistent     success\n",
              "Frequency         4252       35563        1373\n",
              "Proportion       0.103       0.863       0.033\n",
              "--------------------------------------------------------------------------------\n",
              "EmpTasaVar \n",
              "       n  missing distinct     Info     Mean      Gmd      .05      .10 \n",
              "   41188        0       10     0.92  0.08189    1.637     -2.9     -1.8 \n",
              "     .25      .50      .75      .90      .95 \n",
              "    -1.8      1.1      1.4      1.4      1.4 \n",
              "\n",
              "lowest : -3.4 -3.0 -2.9 -1.8 -1.7, highest: -1.1 -0.2 -0.1  1.1  1.4\n",
              "                                                                      \n",
              "Value       -3.4  -3.0  -2.9  -1.8  -1.7  -1.1  -0.2  -0.1   1.1   1.4\n",
              "Frequency   1071   172  1663  9184   773   635    10  3683  7763 16234\n",
              "Proportion 0.026 0.004 0.040 0.223 0.019 0.015 0.000 0.089 0.188 0.394\n",
              "--------------------------------------------------------------------------------\n",
              "IPC \n",
              "       n  missing distinct     Info     Mean      Gmd      .05      .10 \n",
              "   41188        0       26    0.982    93.58   0.6494    92.71    92.89 \n",
              "     .25      .50      .75      .90      .95 \n",
              "   93.08    93.75    93.99    94.47    94.47 \n",
              "\n",
              "lowest : 92.201 92.379 92.431 92.469 92.649, highest: 94.199 94.215 94.465 94.601 94.767\n",
              "--------------------------------------------------------------------------------\n",
              "ICC \n",
              "       n  missing distinct     Info     Mean      Gmd      .05      .10 \n",
              "   41188        0       26    0.982    -40.5    5.104    -47.1    -46.2 \n",
              "     .25      .50      .75      .90      .95 \n",
              "   -42.7    -41.8    -36.4    -36.1    -33.6 \n",
              "\n",
              "lowest : -50.8 -50.0 -49.5 -47.1 -46.2, highest: -33.0 -31.4 -30.1 -29.8 -26.9\n",
              "--------------------------------------------------------------------------------\n",
              "Euribor3m \n",
              "       n  missing distinct     Info     Mean      Gmd      .05      .10 \n",
              "   41188        0      316    0.999    3.621    1.739    0.797    1.046 \n",
              "     .25      .50      .75      .90      .95 \n",
              "   1.344    4.857    4.961    4.964    4.966 \n",
              "\n",
              "lowest : 0.634 0.635 0.636 0.637 0.638, highest: 4.967 4.968 4.970 5.000 5.045\n",
              "--------------------------------------------------------------------------------\n",
              "NumEmpleados \n",
              "       n  missing distinct     Info     Mean      Gmd      .05      .10 \n",
              "   41188        0       11    0.922     5167     74.6     5018     5076 \n",
              "     .25      .50      .75      .90      .95 \n",
              "    5099     5191     5228     5228     5228 \n",
              "\n",
              "lowest : 4963.6 4991.6 5008.7 5017.5 5023.5, highest: 5099.1 5176.3 5191.0 5195.8 5228.1\n",
              "                                                                         \n",
              "Value      4963.6 4991.6 5008.7 5017.5 5023.5 5076.2 5099.1 5176.3 5191.0\n",
              "Frequency     635    773    650   1071    172   1663   8534     10   7763\n",
              "Proportion  0.015  0.019  0.016  0.026  0.004  0.040  0.207  0.000  0.188\n",
              "                        \n",
              "Value      5195.8 5228.1\n",
              "Frequency    3683  16234\n",
              "Proportion  0.089  0.394\n",
              "--------------------------------------------------------------------------------\n",
              "OK \n",
              "       n  missing distinct \n",
              "   41188        0        2 \n",
              "                      \n",
              "Value         no   yes\n",
              "Frequency  36548  4640\n",
              "Proportion 0.887 0.113\n",
              "--------------------------------------------------------------------------------"
            ]
          },
          "metadata": {}
        }
      ]
    },
    {
      "cell_type": "markdown",
      "metadata": {
        "id": "iX9lYmofTUJx"
      },
      "source": [
        "## Ejercicio: Preparación conjuntos de entrenamiento y evaluación\n",
        "\n",
        "En este caso, lo importante es considerar que **es posible cambiar la proporción de datos de entrenamiento y test** viendo el efecto que tiene en el desempeño de los modelos, así como ver si hay algunos posibles atributos que se puedan eliminar, viendo que alguno o varios de los modelos entregan mejores resultados (esto podría deberse a que mientras más atributos, hay modelos, como Árbol Decisión y Random Forest, que tienen mayores desafíos en casos de muchos atributos, mientras que la Red Neuronal maneja dimensionalidades altas, pero no necesariamente tiene un buen desempeño en contexto de datos estructurados).\n",
        "\n",
        "Entonces se pide: \n",
        "\n",
        "*   **Preg 1 (1 pto) ¿Cuáles columnas se eliminaron?** La idea es eliminar columnas del dataset, tal como se muestra en las primeras líneas del código, ya que es posible que no todos los atributos sean relevantes y se puede determinar que al eliminar algunos de ellos podría mejorar el desempeño de todos o algunos de los modelos.\n",
        "*   **Preg 2 (3 ptos) ¿Cuál es la proporción que logra mejor accuracy y con cuál de los modelos?** El objetivo es probar varias combinaciones cambiando la proporción de datos. Preliminarmente 4 combinaciones, desde 60%/40% hasta 90%/10%. Según los resultados de la ejecución de los modelos de clasificación más adelante, determinar y explicitar cuál es la proporción que logra mejores resultados o desmpeño de clasificación y cuál es la influencia del cambio de proporción de entrenamiento/test.\n",
        "*   **Preg 3 (2 ptos) Describa su interpretación y posible justificación de por qué el modelo de mejor accuracy logró los mejores resultados** La idea es que los alumnos puedan analizar y determinar qué características y/o ventajas del mejor modelo le permitieron ese resultado. Complementariamente se puede comparar con el modelo de peor rendimiento y por qué resultó así.\n",
        "\n",
        "\n",
        "Se pide documentar en una tabla todas las combinaciones, viendo los indicadores de desempeño más relevantes: Accuracy, Sensitivity, Specificity (o alternativamente F-Score en vez de estos 2 últimos), **determinando cuál combinación da mejores resultados para cuál de los modelos**, considerando que el desempeño se logra por el modelo completo (accuracy) y por determinar su a nivel de alguna de las clases específicas, se comporta mejor (specificity y/o sensitivity).\n"
      ]
    },
    {
      "cell_type": "code",
      "metadata": {
        "id": "bREGDVWofFwH",
        "colab": {
          "base_uri": "https://localhost:8080/",
          "height": 333
        },
        "outputId": "246552ed-c99b-4572-ceb9-e214f5fb3a6e"
      },
      "source": [
        "# Primero, se saca una copia del dataset para trabajar sin modificar el original\n",
        "# Esto permite hacer más modificaciones y correr este código varias veces sin alterar clean.subdata\n",
        "working.data <- clean.subdata\n",
        "\n",
        "# Segundo, opcionalmente se eliminan un (o más) atributo(s), buscando mejorar el desempeño de los modelos\n",
        "# working.data$DíasAtrás <- NULL\n",
        "\n",
        "\n",
        "# Ahora se configuran los conjuntos de entrenamiento y testing en una proporción\n",
        "# (por ej: 0.70 = 70% para training y el resto para evaluación o testing)\n",
        "\n",
        "##USAMOS 66% \n",
        "ratio = sample(1:nrow(working.data), size = 0.66*nrow(working.data)) \n",
        "training.data = working.data[ratio,]\n",
        "testing.data = working.data[-ratio,] \n",
        "\n",
        "# Se comparan los tamaños de ejemplos para entrenamiento y evaluación.\n",
        "dim(training.data) \n",
        "dim(testing.data)\n",
        "\n",
        "head(training.data)"
      ],
      "execution_count": null,
      "outputs": [
        {
          "output_type": "display_data",
          "data": {
            "text/plain": [
              "[1] 5093   21"
            ],
            "text/latex": "\\begin{enumerate*}\n\\item 5093\n\\item 21\n\\end{enumerate*}\n",
            "text/markdown": "1. 5093\n2. 21\n\n\n",
            "text/html": [
              "<style>\n",
              ".list-inline {list-style: none; margin:0; padding: 0}\n",
              ".list-inline>li {display: inline-block}\n",
              ".list-inline>li:not(:last-child)::after {content: \"\\00b7\"; padding: 0 .5ex}\n",
              "</style>\n",
              "<ol class=list-inline><li>5093</li><li>21</li></ol>\n"
            ]
          },
          "metadata": {}
        },
        {
          "output_type": "display_data",
          "data": {
            "text/plain": [
              "[1] 2625   21"
            ],
            "text/latex": "\\begin{enumerate*}\n\\item 2625\n\\item 21\n\\end{enumerate*}\n",
            "text/markdown": "1. 2625\n2. 21\n\n\n",
            "text/html": [
              "<style>\n",
              ".list-inline {list-style: none; margin:0; padding: 0}\n",
              ".list-inline>li {display: inline-block}\n",
              ".list-inline>li:not(:last-child)::after {content: \"\\00b7\"; padding: 0 .5ex}\n",
              "</style>\n",
              "<ol class=list-inline><li>2625</li><li>21</li></ol>\n"
            ]
          },
          "metadata": {}
        },
        {
          "output_type": "display_data",
          "data": {
            "text/plain": [
              "      Edad Ocupación   EstadoCivil Educación           Default Hipotecario\n",
              "30959 32   management  divorced    university.degree   no      no         \n",
              "12372 40   blue-collar married     basic.9y            no      no         \n",
              "29334 40   blue-collar married     basic.6y            no      no         \n",
              "20260 44   admin.      married     high.school         no      yes        \n",
              "36211 53   technician  divorced    high.school         no      yes        \n",
              "17366 47   technician  single      professional.course no      yes        \n",
              "      Consumo Contacto  Mes Día ⋯ NumContactos DíasAtrás Previo ResultadoPrevio\n",
              "30959 no      cellular  may tue ⋯ 3            999       0      nonexistent    \n",
              "12372 no      telephone jul fri ⋯ 3            999       0      nonexistent    \n",
              "29334 no      cellular  apr fri ⋯ 2            999       0      nonexistent    \n",
              "20260 yes     cellular  aug mon ⋯ 1            999       0      nonexistent    \n",
              "36211 no      cellular  may thu ⋯ 4            999       0      nonexistent    \n",
              "17366 no      cellular  jul mon ⋯ 3            999       0      nonexistent    \n",
              "      EmpTasaVar IPC    ICC   Euribor3m NumEmpleados OK \n",
              "30959 -1.8       92.893 -46.2 1.344     5099.1       no \n",
              "12372  1.4       93.918 -42.7 4.959     5228.1       no \n",
              "29334 -1.8       93.075 -47.1 1.405     5099.1       no \n",
              "20260  1.4       93.444 -36.1 4.965     5228.1       no \n",
              "36211 -1.8       92.893 -46.2 1.270     5099.1       no \n",
              "17366  1.4       93.918 -42.7 4.962     5228.1       yes"
            ],
            "text/latex": "A data.frame: 6 × 21\n\\begin{tabular}{r|lllllllllllllllllllll}\n  & Edad & Ocupación & EstadoCivil & Educación & Default & Hipotecario & Consumo & Contacto & Mes & Día & ⋯ & NumContactos & DíasAtrás & Previo & ResultadoPrevio & EmpTasaVar & IPC & ICC & Euribor3m & NumEmpleados & OK\\\\\n  & <int> & <chr> & <chr> & <chr> & <chr> & <chr> & <chr> & <chr> & <chr> & <chr> & ⋯ & <int> & <int> & <int> & <chr> & <dbl> & <dbl> & <dbl> & <dbl> & <dbl> & <chr>\\\\\n\\hline\n\t30959 & 32 & management  & divorced & university.degree   & no & no  & no  & cellular  & may & tue & ⋯ & 3 & 999 & 0 & nonexistent & -1.8 & 92.893 & -46.2 & 1.344 & 5099.1 & no \\\\\n\t12372 & 40 & blue-collar & married  & basic.9y            & no & no  & no  & telephone & jul & fri & ⋯ & 3 & 999 & 0 & nonexistent &  1.4 & 93.918 & -42.7 & 4.959 & 5228.1 & no \\\\\n\t29334 & 40 & blue-collar & married  & basic.6y            & no & no  & no  & cellular  & apr & fri & ⋯ & 2 & 999 & 0 & nonexistent & -1.8 & 93.075 & -47.1 & 1.405 & 5099.1 & no \\\\\n\t20260 & 44 & admin.      & married  & high.school         & no & yes & yes & cellular  & aug & mon & ⋯ & 1 & 999 & 0 & nonexistent &  1.4 & 93.444 & -36.1 & 4.965 & 5228.1 & no \\\\\n\t36211 & 53 & technician  & divorced & high.school         & no & yes & no  & cellular  & may & thu & ⋯ & 4 & 999 & 0 & nonexistent & -1.8 & 92.893 & -46.2 & 1.270 & 5099.1 & no \\\\\n\t17366 & 47 & technician  & single   & professional.course & no & yes & no  & cellular  & jul & mon & ⋯ & 3 & 999 & 0 & nonexistent &  1.4 & 93.918 & -42.7 & 4.962 & 5228.1 & yes\\\\\n\\end{tabular}\n",
            "text/markdown": "\nA data.frame: 6 × 21\n\n| <!--/--> | Edad &lt;int&gt; | Ocupación &lt;chr&gt; | EstadoCivil &lt;chr&gt; | Educación &lt;chr&gt; | Default &lt;chr&gt; | Hipotecario &lt;chr&gt; | Consumo &lt;chr&gt; | Contacto &lt;chr&gt; | Mes &lt;chr&gt; | Día &lt;chr&gt; | ⋯ ⋯ | NumContactos &lt;int&gt; | DíasAtrás &lt;int&gt; | Previo &lt;int&gt; | ResultadoPrevio &lt;chr&gt; | EmpTasaVar &lt;dbl&gt; | IPC &lt;dbl&gt; | ICC &lt;dbl&gt; | Euribor3m &lt;dbl&gt; | NumEmpleados &lt;dbl&gt; | OK &lt;chr&gt; |\n|---|---|---|---|---|---|---|---|---|---|---|---|---|---|---|---|---|---|---|---|---|---|\n| 30959 | 32 | management  | divorced | university.degree   | no | no  | no  | cellular  | may | tue | ⋯ | 3 | 999 | 0 | nonexistent | -1.8 | 92.893 | -46.2 | 1.344 | 5099.1 | no  |\n| 12372 | 40 | blue-collar | married  | basic.9y            | no | no  | no  | telephone | jul | fri | ⋯ | 3 | 999 | 0 | nonexistent |  1.4 | 93.918 | -42.7 | 4.959 | 5228.1 | no  |\n| 29334 | 40 | blue-collar | married  | basic.6y            | no | no  | no  | cellular  | apr | fri | ⋯ | 2 | 999 | 0 | nonexistent | -1.8 | 93.075 | -47.1 | 1.405 | 5099.1 | no  |\n| 20260 | 44 | admin.      | married  | high.school         | no | yes | yes | cellular  | aug | mon | ⋯ | 1 | 999 | 0 | nonexistent |  1.4 | 93.444 | -36.1 | 4.965 | 5228.1 | no  |\n| 36211 | 53 | technician  | divorced | high.school         | no | yes | no  | cellular  | may | thu | ⋯ | 4 | 999 | 0 | nonexistent | -1.8 | 92.893 | -46.2 | 1.270 | 5099.1 | no  |\n| 17366 | 47 | technician  | single   | professional.course | no | yes | no  | cellular  | jul | mon | ⋯ | 3 | 999 | 0 | nonexistent |  1.4 | 93.918 | -42.7 | 4.962 | 5228.1 | yes |\n\n",
            "text/html": [
              "<table class=\"dataframe\">\n",
              "<caption>A data.frame: 6 × 21</caption>\n",
              "<thead>\n",
              "\t<tr><th></th><th scope=col>Edad</th><th scope=col>Ocupación</th><th scope=col>EstadoCivil</th><th scope=col>Educación</th><th scope=col>Default</th><th scope=col>Hipotecario</th><th scope=col>Consumo</th><th scope=col>Contacto</th><th scope=col>Mes</th><th scope=col>Día</th><th scope=col>⋯</th><th scope=col>NumContactos</th><th scope=col>DíasAtrás</th><th scope=col>Previo</th><th scope=col>ResultadoPrevio</th><th scope=col>EmpTasaVar</th><th scope=col>IPC</th><th scope=col>ICC</th><th scope=col>Euribor3m</th><th scope=col>NumEmpleados</th><th scope=col>OK</th></tr>\n",
              "\t<tr><th></th><th scope=col>&lt;int&gt;</th><th scope=col>&lt;chr&gt;</th><th scope=col>&lt;chr&gt;</th><th scope=col>&lt;chr&gt;</th><th scope=col>&lt;chr&gt;</th><th scope=col>&lt;chr&gt;</th><th scope=col>&lt;chr&gt;</th><th scope=col>&lt;chr&gt;</th><th scope=col>&lt;chr&gt;</th><th scope=col>&lt;chr&gt;</th><th scope=col>⋯</th><th scope=col>&lt;int&gt;</th><th scope=col>&lt;int&gt;</th><th scope=col>&lt;int&gt;</th><th scope=col>&lt;chr&gt;</th><th scope=col>&lt;dbl&gt;</th><th scope=col>&lt;dbl&gt;</th><th scope=col>&lt;dbl&gt;</th><th scope=col>&lt;dbl&gt;</th><th scope=col>&lt;dbl&gt;</th><th scope=col>&lt;chr&gt;</th></tr>\n",
              "</thead>\n",
              "<tbody>\n",
              "\t<tr><th scope=row>30959</th><td>32</td><td>management </td><td>divorced</td><td>university.degree  </td><td>no</td><td>no </td><td>no </td><td>cellular </td><td>may</td><td>tue</td><td>⋯</td><td>3</td><td>999</td><td>0</td><td>nonexistent</td><td>-1.8</td><td>92.893</td><td>-46.2</td><td>1.344</td><td>5099.1</td><td>no </td></tr>\n",
              "\t<tr><th scope=row>12372</th><td>40</td><td>blue-collar</td><td>married </td><td>basic.9y           </td><td>no</td><td>no </td><td>no </td><td>telephone</td><td>jul</td><td>fri</td><td>⋯</td><td>3</td><td>999</td><td>0</td><td>nonexistent</td><td> 1.4</td><td>93.918</td><td>-42.7</td><td>4.959</td><td>5228.1</td><td>no </td></tr>\n",
              "\t<tr><th scope=row>29334</th><td>40</td><td>blue-collar</td><td>married </td><td>basic.6y           </td><td>no</td><td>no </td><td>no </td><td>cellular </td><td>apr</td><td>fri</td><td>⋯</td><td>2</td><td>999</td><td>0</td><td>nonexistent</td><td>-1.8</td><td>93.075</td><td>-47.1</td><td>1.405</td><td>5099.1</td><td>no </td></tr>\n",
              "\t<tr><th scope=row>20260</th><td>44</td><td>admin.     </td><td>married </td><td>high.school        </td><td>no</td><td>yes</td><td>yes</td><td>cellular </td><td>aug</td><td>mon</td><td>⋯</td><td>1</td><td>999</td><td>0</td><td>nonexistent</td><td> 1.4</td><td>93.444</td><td>-36.1</td><td>4.965</td><td>5228.1</td><td>no </td></tr>\n",
              "\t<tr><th scope=row>36211</th><td>53</td><td>technician </td><td>divorced</td><td>high.school        </td><td>no</td><td>yes</td><td>no </td><td>cellular </td><td>may</td><td>thu</td><td>⋯</td><td>4</td><td>999</td><td>0</td><td>nonexistent</td><td>-1.8</td><td>92.893</td><td>-46.2</td><td>1.270</td><td>5099.1</td><td>no </td></tr>\n",
              "\t<tr><th scope=row>17366</th><td>47</td><td>technician </td><td>single  </td><td>professional.course</td><td>no</td><td>yes</td><td>no </td><td>cellular </td><td>jul</td><td>mon</td><td>⋯</td><td>3</td><td>999</td><td>0</td><td>nonexistent</td><td> 1.4</td><td>93.918</td><td>-42.7</td><td>4.962</td><td>5228.1</td><td>yes</td></tr>\n",
              "</tbody>\n",
              "</table>\n"
            ]
          },
          "metadata": {}
        }
      ]
    },
    {
      "cell_type": "markdown",
      "metadata": {
        "id": "82LcskQOnNmH"
      },
      "source": [
        "## Complemento: Ejecución de modelos de clasificación\n",
        "\n",
        "Habiendo definido y establecido los atributos relevantes del dataset y los conjuntos de entrenamiento y de test, a continuación se ejecutan unos modelos de clasificación: Decision Tree, Random Forest, Naive Bayes y una Red Neuronal. Cada uno obtiene su resultado, mostrando sus precisiones en general. No es necesario modificar estos bloques de código. Basta con hacer los cambios en la parte del ejercicio (bloque de código anterior) y volver a ejecutar estos modelos para evaluar su desempeño.\n"
      ]
    },
    {
      "cell_type": "markdown",
      "metadata": {
        "id": "u67Nqw5Ph0oN"
      },
      "source": [
        "**Árbol de Decisión**"
      ]
    },
    {
      "cell_type": "code",
      "metadata": {
        "id": "KOpqb-QInkff",
        "colab": {
          "base_uri": "https://localhost:8080/",
          "height": 1000
        },
        "outputId": "ecea96ad-6b52-484d-a865-51c368f125ca"
      },
      "source": [
        "library(caret)\n",
        "library(rpart)\n",
        "library(rpart.plot)\n",
        "\n",
        "# Decision Tree\n",
        "DT_model <- rpart(as.factor(OK) ~ ., data=training.data, method=\"class\", minbucket=10)\n",
        "\n",
        "DT_predictTraining <- predict(DT_model, training.data, type = \"class\")\n",
        "DT_predictTesting <- predict(DT_model, testing.data, type = \"class\")\n",
        "print(\"Resultados Árbol de Decisión\")\n",
        "confusionMatrix(DT_predictTraining, as.factor(training.data$OK)) \n",
        "confusionMatrix(DT_predictTesting, as.factor(testing.data$OK)) \n",
        "rpart.plot(DT_model)\n"
      ],
      "execution_count": null,
      "outputs": [
        {
          "output_type": "stream",
          "text": [
            "Warning message in system(\"timedatectl\", intern = TRUE):\n",
            "“running command 'timedatectl' had status 1”\n",
            "\n",
            "Attaching package: ‘caret’\n",
            "\n",
            "\n",
            "The following object is masked from ‘package:survival’:\n",
            "\n",
            "    cluster\n",
            "\n",
            "\n"
          ],
          "name": "stderr"
        },
        {
          "output_type": "stream",
          "text": [
            "[1] \"Resultados Árbol de Decisión\"\n"
          ],
          "name": "stdout"
        },
        {
          "output_type": "display_data",
          "data": {
            "text/plain": [
              "Confusion Matrix and Statistics\n",
              "\n",
              "          Reference\n",
              "Prediction   no  yes\n",
              "       no  2060  238\n",
              "       yes  506 2289\n",
              "                                          \n",
              "               Accuracy : 0.8539          \n",
              "                 95% CI : (0.8439, 0.8635)\n",
              "    No Information Rate : 0.5038          \n",
              "    P-Value [Acc > NIR] : < 2.2e-16       \n",
              "                                          \n",
              "                  Kappa : 0.7081          \n",
              "                                          \n",
              " Mcnemar's Test P-Value : < 2.2e-16       \n",
              "                                          \n",
              "            Sensitivity : 0.8028          \n",
              "            Specificity : 0.9058          \n",
              "         Pos Pred Value : 0.8964          \n",
              "         Neg Pred Value : 0.8190          \n",
              "             Prevalence : 0.5038          \n",
              "         Detection Rate : 0.4045          \n",
              "   Detection Prevalence : 0.4512          \n",
              "      Balanced Accuracy : 0.8543          \n",
              "                                          \n",
              "       'Positive' Class : no              \n",
              "                                          "
            ]
          },
          "metadata": {}
        },
        {
          "output_type": "display_data",
          "data": {
            "text/plain": [
              "Confusion Matrix and Statistics\n",
              "\n",
              "          Reference\n",
              "Prediction   no  yes\n",
              "       no  1047  145\n",
              "       yes  246 1187\n",
              "                                          \n",
              "               Accuracy : 0.851           \n",
              "                 95% CI : (0.8368, 0.8645)\n",
              "    No Information Rate : 0.5074          \n",
              "    P-Value [Acc > NIR] : < 2.2e-16       \n",
              "                                          \n",
              "                  Kappa : 0.7017          \n",
              "                                          \n",
              " Mcnemar's Test P-Value : 4.254e-07       \n",
              "                                          \n",
              "            Sensitivity : 0.8097          \n",
              "            Specificity : 0.8911          \n",
              "         Pos Pred Value : 0.8784          \n",
              "         Neg Pred Value : 0.8283          \n",
              "             Prevalence : 0.4926          \n",
              "         Detection Rate : 0.3989          \n",
              "   Detection Prevalence : 0.4541          \n",
              "      Balanced Accuracy : 0.8504          \n",
              "                                          \n",
              "       'Positive' Class : no              \n",
              "                                          "
            ]
          },
          "metadata": {}
        },
        {
          "output_type": "display_data",
          "data": {
            "image/png": "[encoded data removed]",
            "text/plain": [
              "plot without title"
            ]
          },
          "metadata": {
            "image/png": {
              "width": 420,
              "height": 420
            }
          }
        }
      ]
    },
    {
      "cell_type": "markdown",
      "metadata": {
        "id": "EM91HnJqh7D6"
      },
      "source": [
        "**Random Forest**"
      ]
    },
    {
      "cell_type": "code",
      "metadata": {
        "id": "XUkbhaJ0CGDm",
        "colab": {
          "base_uri": "https://localhost:8080/",
          "height": 727
        },
        "outputId": "214ad3cb-1bf5-48db-8008-0c75b70bed09"
      },
      "source": [
        "library(randomForest)\n",
        "library(caret)\n",
        "\n",
        "# Random Forest\n",
        "RF_model <- randomForest(as.factor(OK) ~ ., data=training.data, method=\"class\")\n",
        "RF_predict <- predict(RF_model, testing.data, type = \"class\")\n",
        "confusionMatrix(RF_predict, as.factor(testing.data$OK))"
      ],
      "execution_count": null,
      "outputs": [
        {
          "output_type": "stream",
          "text": [
            "randomForest 4.6-14\n",
            "\n",
            "Type rfNews() to see new features/changes/bug fixes.\n",
            "\n",
            "\n",
            "Attaching package: ‘randomForest’\n",
            "\n",
            "\n",
            "The following object is masked from ‘package:ggplot2’:\n",
            "\n",
            "    margin\n",
            "\n",
            "\n"
          ],
          "name": "stderr"
        },
        {
          "output_type": "display_data",
          "data": {
            "text/plain": [
              "Confusion Matrix and Statistics\n",
              "\n",
              "          Reference\n",
              "Prediction   no  yes\n",
              "       no  1104  105\n",
              "       yes  189 1227\n",
              "                                          \n",
              "               Accuracy : 0.888           \n",
              "                 95% CI : (0.8753, 0.8998)\n",
              "    No Information Rate : 0.5074          \n",
              "    P-Value [Acc > NIR] : < 2.2e-16       \n",
              "                                          \n",
              "                  Kappa : 0.7757          \n",
              "                                          \n",
              " Mcnemar's Test P-Value : 1.294e-06       \n",
              "                                          \n",
              "            Sensitivity : 0.8538          \n",
              "            Specificity : 0.9212          \n",
              "         Pos Pred Value : 0.9132          \n",
              "         Neg Pred Value : 0.8665          \n",
              "             Prevalence : 0.4926          \n",
              "         Detection Rate : 0.4206          \n",
              "   Detection Prevalence : 0.4606          \n",
              "      Balanced Accuracy : 0.8875          \n",
              "                                          \n",
              "       'Positive' Class : no              \n",
              "                                          "
            ]
          },
          "metadata": {}
        }
      ]
    },
    {
      "cell_type": "markdown",
      "metadata": {
        "id": "pgdCy3jOmM61"
      },
      "source": [
        "**Naive Bayes**"
      ]
    },
    {
      "cell_type": "code",
      "metadata": {
        "id": "gKfTuGGxEo-f",
        "colab": {
          "base_uri": "https://localhost:8080/",
          "height": 656
        },
        "outputId": "c66a6d1a-1091-452c-ec5a-60b319a99187"
      },
      "source": [
        "library(e1071) \n",
        "\n",
        "# Naive Bayes\n",
        "NB_model <- naiveBayes(as.factor(OK) ~ ., data=training.data)\n",
        "NB_predict <- predict(NB_model, testing.data, type = \"class\")\n",
        "confusionMatrix(NB_predict, as.factor(testing.data$OK)) "
      ],
      "execution_count": null,
      "outputs": [
        {
          "output_type": "stream",
          "text": [
            "\n",
            "Attaching package: ‘e1071’\n",
            "\n",
            "\n",
            "The following object is masked from ‘package:Hmisc’:\n",
            "\n",
            "    impute\n",
            "\n",
            "\n"
          ],
          "name": "stderr"
        },
        {
          "output_type": "display_data",
          "data": {
            "text/plain": [
              "Confusion Matrix and Statistics\n",
              "\n",
              "          Reference\n",
              "Prediction   no  yes\n",
              "       no  1079  379\n",
              "       yes  214  953\n",
              "                                        \n",
              "               Accuracy : 0.7741        \n",
              "                 95% CI : (0.7576, 0.79)\n",
              "    No Information Rate : 0.5074        \n",
              "    P-Value [Acc > NIR] : < 2.2e-16     \n",
              "                                        \n",
              "                  Kappa : 0.5489        \n",
              "                                        \n",
              " Mcnemar's Test P-Value : 1.643e-11     \n",
              "                                        \n",
              "            Sensitivity : 0.8345        \n",
              "            Specificity : 0.7155        \n",
              "         Pos Pred Value : 0.7401        \n",
              "         Neg Pred Value : 0.8166        \n",
              "             Prevalence : 0.4926        \n",
              "         Detection Rate : 0.4110        \n",
              "   Detection Prevalence : 0.5554        \n",
              "      Balanced Accuracy : 0.7750        \n",
              "                                        \n",
              "       'Positive' Class : no            \n",
              "                                        "
            ]
          },
          "metadata": {}
        }
      ]
    },
    {
      "cell_type": "markdown",
      "metadata": {
        "id": "XdUMBZYBaZUl"
      },
      "source": [
        "**Red Neuronal**"
      ]
    },
    {
      "cell_type": "code",
      "metadata": {
        "id": "z1J9YijbaWDC",
        "colab": {
          "base_uri": "https://localhost:8080/",
          "height": 493
        },
        "outputId": "8812777d-7bf5-480e-ba13-c6de681b4b82"
      },
      "source": [
        "library(nnet) \n",
        "\n",
        "# Red Neuronal\n",
        "# Nótese que sólo se usan algunos atributos\n",
        "NN_model <- nnet(as.factor(OK) ~ Edad+Ocupación+EstadoCivil+Educación+Duración+NumContactos+EmpTasaVar+Euribor3m+NumEmpleados,\n",
        "                  data=training.data, size=30, maxit=3000)\n",
        "NN_predict <- predict(NN_model, testing.data, type=\"class\")\n",
        "\n",
        "# A continuación se muestra el resultado de evaluación \n",
        "confTable <- table(NN_predict, testing.data$OK)\n",
        "confTable\n",
        "\n",
        "accuracy <- (confTable[1,1] + confTable[2,2]) / dim(testing.data)[1]\n",
        "accuracy\n",
        "\n",
        "sensitivity <- confTable[1,1] / (confTable[1,1] + confTable[1,2])\n",
        "sensitivity\n",
        "\n",
        "specificity <- confTable[2,2] / (confTable[2,1] + confTable[2,2])\n",
        "specificity"
      ],
      "execution_count": null,
      "outputs": [
        {
          "output_type": "stream",
          "text": [
            "# weights:  781\n",
            "initial  value 6280.697104 \n",
            "iter  10 value 2958.825830\n",
            "iter  20 value 2887.664671\n",
            "iter  30 value 2756.742257\n",
            "iter  40 value 2475.914115\n",
            "iter  50 value 2203.026393\n",
            "iter  60 value 2107.942011\n",
            "iter  70 value 2052.672969\n",
            "iter  80 value 2044.339911\n",
            "iter  90 value 2024.676577\n",
            "iter 100 value 1919.367401\n",
            "iter 110 value 1843.076556\n",
            "iter 120 value 1810.690052\n",
            "iter 130 value 1766.083085\n",
            "iter 140 value 1741.347981\n",
            "iter 150 value 1739.743078\n",
            "iter 160 value 1738.815770\n",
            "final  value 1738.806232 \n",
            "converged\n"
          ],
          "name": "stdout"
        },
        {
          "output_type": "display_data",
          "data": {
            "text/plain": [
              "          \n",
              "NN_predict   no  yes\n",
              "       no  1044  141\n",
              "       yes  249 1191"
            ]
          },
          "metadata": {}
        },
        {
          "output_type": "display_data",
          "data": {
            "text/plain": [
              "[1] 0.8514286"
            ],
            "text/latex": "0.851428571428571",
            "text/markdown": "0.851428571428571",
            "text/html": [
              "0.851428571428571"
            ]
          },
          "metadata": {}
        },
        {
          "output_type": "display_data",
          "data": {
            "text/plain": [
              "[1] 0.8810127"
            ],
            "text/latex": "0.881012658227848",
            "text/markdown": "0.881012658227848",
            "text/html": [
              "0.881012658227848"
            ]
          },
          "metadata": {}
        },
        {
          "output_type": "display_data",
          "data": {
            "text/plain": [
              "[1] 0.8270833"
            ],
            "text/latex": "0.827083333333333",
            "text/markdown": "0.827083333333333",
            "text/html": [
              "0.827083333333333"
            ]
          },
          "metadata": {}
        }
      ]
    },
    {
      "cell_type": "markdown",
      "metadata": {
        "id": "yEKlHstgEOG1"
      },
      "source": [
        "\n",
        "---\n",
        "\n",
        "**Complemento: Ejercicio de comprobación manual**\n",
        "\n",
        "\n",
        "Para verificar que alguno de los modelos realmente predice correctamente, se comprueba con los datos de una persona en particular, pidiendo la predicción al modelo. A continuación hay dos ejemplo, que se puede modificar para ver su resultado, cambiando valores y también, cambiando el modelo a utilizar en la predicción. No se necesita modificar, ni comentar esta parte en la entrega."
      ]
    },
    {
      "cell_type": "code",
      "metadata": {
        "id": "tZaYo2bG58aA"
      },
      "source": [
        "# Ejemplo 1: La predicción debería ser \"YES\"\n",
        "sample_x <- clean.subdata[1,]\n",
        "sample_x[1,1] <- 32       # Edad\n",
        "sample_x[1,2] <- 'admin.' # Ocupación\n",
        "sample_x[1,3] <- 'single' # EstadoCivil\n",
        "sample_x[1,4] <- 'university.degree'  # Educación\n",
        "sample_x\n",
        "\n",
        "prediction <- predict(RF_model, sample_x)\n",
        "prediction\n",
        "\n",
        "\n",
        "# Ejemplo 2: La predicción debería ser \"NO\"\n",
        "sample_x2 <- clean.subdata[1,]\n",
        "sample_x2[1,1] <- 42\n",
        "sample_x2[1,11] <- 600   # Duración\n",
        "sample_x2[1,19] <- 2000  # NumEmpleados \n",
        "sample_x2\n",
        "\n",
        "prediction <- predict(RF_model, sample_x2)\n",
        "prediction\n"
      ],
      "execution_count": null,
      "outputs": []
    }
  ]
}